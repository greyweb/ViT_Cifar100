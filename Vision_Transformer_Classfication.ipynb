{
  "nbformat": 4,
  "nbformat_minor": 0,
  "metadata": {
    "colab": {
      "name": "Vision_Transformer_Classfication.ipynb",
      "provenance": [],
      "collapsed_sections": [],
      "authorship_tag": "ABX9TyP+GnpndjEvE2TU5t3HMod4",
      "include_colab_link": true
    },
    "kernelspec": {
      "name": "python3",
      "display_name": "Python 3"
    },
    "language_info": {
      "name": "python"
    },
    "accelerator": "GPU"
  },
  "cells": [
    {
      "cell_type": "markdown",
      "metadata": {
        "id": "view-in-github",
        "colab_type": "text"
      },
      "source": [
        "<a href=\"https://colab.research.google.com/github/greyweb/Vit_Cifar100/blob/main/Vision_Transformer_Classfication.ipynb\" target=\"_parent\"><img src=\"https://colab.research.google.com/assets/colab-badge.svg\" alt=\"Open In Colab\"/></a>"
      ]
    },
    {
      "cell_type": "markdown",
      "source": [
        "#### We require TensorFlow Addons"
      ],
      "metadata": {
        "id": "5KvIcsToclQh"
      }
    },
    {
      "cell_type": "code",
      "source": [
        "!pip install -U tensorflow-addons"
      ],
      "metadata": {
        "colab": {
          "base_uri": "https://localhost:8080/"
        },
        "id": "AaNFIGdScuQf",
        "outputId": "8d02c1af-0c6e-4979-911b-504883969985"
      },
      "execution_count": 1,
      "outputs": [
        {
          "output_type": "stream",
          "name": "stdout",
          "text": [
            "Requirement already satisfied: tensorflow-addons in /usr/local/lib/python3.7/dist-packages (0.15.0)\n",
            "Requirement already satisfied: typeguard>=2.7 in /usr/local/lib/python3.7/dist-packages (from tensorflow-addons) (2.7.1)\n"
          ]
        }
      ]
    },
    {
      "cell_type": "code",
      "source": [
        "import numpy as np\n",
        "import tensorflow as tf\n",
        "from tensorflow import keras\n",
        "from tensorflow.keras import layers\n",
        "import tensorflow_addons as tfa"
      ],
      "metadata": {
        "id": "QoIXPt1icv9l"
      },
      "execution_count": 2,
      "outputs": []
    },
    {
      "cell_type": "markdown",
      "source": [
        "#### Data Preparation for CIFAR-100 Dataset"
      ],
      "metadata": {
        "id": "XfLVdxSec_Pj"
      }
    },
    {
      "cell_type": "code",
      "source": [
        "num_classes = 100\n",
        "input_shape = (32, 32, 3)\n",
        "\n",
        "(x_train, y_train), (x_test, y_test) = keras.datasets.cifar100.load_data()\n",
        "\n",
        "print(f\"x_train shape: {x_train.shape} - y_train shape: {y_train.shape}\")\n",
        "print(f\"x_test shape: {x_test.shape} - y_test shape: {y_test.shape}\")\n"
      ],
      "metadata": {
        "colab": {
          "base_uri": "https://localhost:8080/"
        },
        "id": "Lkit11B8c56H",
        "outputId": "fb60cb12-028e-425e-ac81-ab4fc27d4598"
      },
      "execution_count": 3,
      "outputs": [
        {
          "output_type": "stream",
          "name": "stdout",
          "text": [
            "x_train shape: (50000, 32, 32, 3) - y_train shape: (50000, 1)\n",
            "x_test shape: (10000, 32, 32, 3) - y_test shape: (10000, 1)\n"
          ]
        }
      ]
    },
    {
      "cell_type": "markdown",
      "source": [
        "#### Hyperparams configuration"
      ],
      "metadata": {
        "id": "CLg1udc1dfKQ"
      }
    },
    {
      "cell_type": "code",
      "source": [
        "learning_rate = 0.001\n",
        "weight_decay = 0.0001\n",
        "batch_size = 256\n",
        "num_epochs = 100\n",
        "image_size = 72  # We'll resize input images to this size\n",
        "patch_size = 6  # Size of the patches to be extract from the input images\n",
        "num_patches = (image_size // patch_size) ** 2\n",
        "projection_dim = 64\n",
        "num_heads = 4\n",
        "transformer_units = [\n",
        "    projection_dim * 2,\n",
        "    projection_dim,\n",
        "]  # Size of the transformer layers\n",
        "transformer_layers = 8\n",
        "mlp_head_units = [2048, 1024]  # Size of the dense layers of the final classifier\n"
      ],
      "metadata": {
        "id": "CwOb7bqwdHOO"
      },
      "execution_count": 4,
      "outputs": []
    },
    {
      "cell_type": "markdown",
      "source": [
        "#### Data Augmentation"
      ],
      "metadata": {
        "id": "Fwej9pqhehBF"
      }
    },
    {
      "cell_type": "code",
      "source": [
        "data_augmentation = keras.Sequential(\n",
        "    [\n",
        "        layers.Normalization(),\n",
        "        layers.Resizing(image_size, image_size),\n",
        "        layers.RandomFlip(\"horizontal\"),\n",
        "        layers.RandomRotation(factor=0.02),\n",
        "        layers.RandomZoom(\n",
        "            height_factor=0.2, width_factor=0.2\n",
        "        ),\n",
        "    ],\n",
        "    name=\"data_augmentation\",\n",
        ")\n",
        "# Compute the mean and the variance of the training data for normalization.\n",
        "data_augmentation.layers[0].adapt(x_train)\n"
      ],
      "metadata": {
        "id": "y5u4a8pXdnik"
      },
      "execution_count": 5,
      "outputs": []
    },
    {
      "cell_type": "markdown",
      "source": [
        "#### Implementing MLP"
      ],
      "metadata": {
        "id": "I1GT8tAof5gs"
      }
    },
    {
      "cell_type": "code",
      "source": [
        "def mlp(x, hidden_units, dropout_rate):\n",
        "    for units in hidden_units:\n",
        "        x = layers.Dense(units, activation=tf.nn.gelu)(x)\n",
        "        x = layers.Dropout(dropout_rate)(x)\n",
        "    return x"
      ],
      "metadata": {
        "id": "FeTdYW4Nf4fq"
      },
      "execution_count": 6,
      "outputs": []
    },
    {
      "cell_type": "markdown",
      "source": [
        "#### Implementing patch creation as a layer for reproducability"
      ],
      "metadata": {
        "id": "mk6kJfdJgDDn"
      }
    },
    {
      "cell_type": "code",
      "source": [
        "\n",
        "class Patches(layers.Layer):\n",
        "    def __init__(self, patch_size):\n",
        "        super(Patches, self).__init__()\n",
        "        self.patch_size = patch_size\n",
        "\n",
        "    def call(self, images):\n",
        "        batch_size = tf.shape(images)[0]\n",
        "        patches = tf.image.extract_patches(\n",
        "            images=images,\n",
        "            sizes=[1, self.patch_size, self.patch_size, 1],\n",
        "            strides=[1, self.patch_size, self.patch_size, 1],\n",
        "            rates=[1, 1, 1, 1],\n",
        "            padding=\"VALID\",\n",
        "        )\n",
        "        patch_dims = patches.shape[-1]\n",
        "        patches = tf.reshape(patches, [batch_size, -1, patch_dims])\n",
        "        return patches\n"
      ],
      "metadata": {
        "id": "0-TKcqi2gBP9"
      },
      "execution_count": 7,
      "outputs": []
    },
    {
      "cell_type": "code",
      "source": [
        "import matplotlib.pyplot as plt\n",
        "\n",
        "plt.figure(figsize=(4, 4))\n",
        "image = x_train[np.random.choice(range(x_train.shape[0]))]\n",
        "plt.imshow(image.astype(\"uint8\"))\n",
        "plt.axis(\"off\")\n",
        "\n",
        "resized_image = tf.image.resize(\n",
        "    tf.convert_to_tensor([image]), size=(image_size, image_size)\n",
        ")\n",
        "patches = Patches(patch_size)(resized_image)\n",
        "print(f\"Image size: {image_size} X {image_size}\")\n",
        "print(f\"Patch size: {patch_size} X {patch_size}\")\n",
        "print(f\"Patches per image: {patches.shape[1]}\")\n",
        "print(f\"Elements per patch: {patches.shape[-1]}\")\n",
        "\n",
        "n = int(np.sqrt(patches.shape[1]))\n",
        "plt.figure(figsize=(4, 4))\n",
        "for i, patch in enumerate(patches[0]):\n",
        "    ax = plt.subplot(n, n, i + 1)\n",
        "    patch_img = tf.reshape(patch, (patch_size, patch_size, 3))\n",
        "    plt.imshow(patch_img.numpy().astype(\"uint8\"))\n",
        "    plt.axis(\"off\")"
      ],
      "metadata": {
        "colab": {
          "base_uri": "https://localhost:8080/",
          "height": 548
        },
        "id": "IgEIiQoHgO-h",
        "outputId": "56476730-9ea4-4583-cd2a-03e194ffb692"
      },
      "execution_count": 11,
      "outputs": [
        {
          "output_type": "stream",
          "name": "stdout",
          "text": [
            "Image size: 72 X 72\n",
            "Patch size: 6 X 6\n",
            "Patches per image: 144\n",
            "Elements per patch: 108\n"
          ]
        },
        {
          "output_type": "display_data",
          "data": {
            "image/png": "[encoded data removed]",
            "text/plain": [
              "<Figure size 288x288 with 1 Axes>"
            ]
          },
          "metadata": {
            "needs_background": "light"
          }
        },
        {
          "output_type": "display_data",
          "data": {
            "image/png": "[encoded data removed]",
            "text/plain": [
              "<Figure size 288x288 with 144 Axes>"
            ]
          },
          "metadata": {
            "needs_background": "light"
          }
        }
      ]
    },
    {
      "cell_type": "markdown",
      "source": [
        "#### Implementing patch encoding layer- for projecting patch into a vector"
      ],
      "metadata": {
        "id": "a-R5uDuWgxSb"
      }
    },
    {
      "cell_type": "code",
      "source": [
        "class PatchEncoder(layers.Layer):\n",
        "    def __init__(self, num_patches, projection_dim):\n",
        "        super(PatchEncoder, self).__init__()\n",
        "        self.num_patches = num_patches\n",
        "        self.projection = layers.Dense(units=projection_dim)\n",
        "        self.position_embedding = layers.Embedding(\n",
        "            input_dim=num_patches, output_dim=projection_dim\n",
        "        )\n",
        "\n",
        "    def call(self, patch):\n",
        "        positions = tf.range(start=0, limit=self.num_patches, delta=1)\n",
        "        encoded = self.projection(patch) + self.position_embedding(positions)\n",
        "        return encoded"
      ],
      "metadata": {
        "id": "4WuGJA6bgSbe"
      },
      "execution_count": 12,
      "outputs": []
    },
    {
      "cell_type": "markdown",
      "source": [
        "#### Building the ViT Model!"
      ],
      "metadata": {
        "id": "PAyO5Nuuh0QO"
      }
    },
    {
      "cell_type": "code",
      "source": [
        "def create_vit_classifier():\n",
        "    inputs = layers.Input(shape=input_shape)\n",
        "    # Augment data.\n",
        "    augmented = data_augmentation(inputs)\n",
        "    # Create patches.\n",
        "    patches = Patches(patch_size)(augmented)\n",
        "    # Encode patches.\n",
        "    encoded_patches = PatchEncoder(num_patches, projection_dim)(patches)\n",
        "\n",
        "    # Create multiple layers of the Transformer block.\n",
        "    for _ in range(transformer_layers):\n",
        "        # Layer normalization 1.\n",
        "        x1 = layers.LayerNormalization(epsilon=1e-6)(encoded_patches)\n",
        "        # Create a multi-head attention layer.\n",
        "        attention_output = layers.MultiHeadAttention(\n",
        "            num_heads=num_heads, key_dim=projection_dim, dropout=0.1\n",
        "        )(x1, x1)\n",
        "        # Skip connection 1.\n",
        "        x2 = layers.Add()([attention_output, encoded_patches])\n",
        "        # Layer normalization 2.\n",
        "        x3 = layers.LayerNormalization(epsilon=1e-6)(x2)\n",
        "        # MLP.\n",
        "        x3 = mlp(x3, hidden_units=transformer_units, dropout_rate=0.1)\n",
        "        # Skip connection 2.\n",
        "        encoded_patches = layers.Add()([x3, x2])\n",
        "\n",
        "    # Create a [batch_size, projection_dim] tensor.\n",
        "    representation = layers.LayerNormalization(epsilon=1e-6)(encoded_patches)\n",
        "    representation = layers.Flatten()(representation)\n",
        "    representation = layers.Dropout(0.5)(representation)\n",
        "    # Add MLP.\n",
        "    features = mlp(representation, hidden_units=mlp_head_units, dropout_rate=0.5)\n",
        "    # Classify outputs.\n",
        "    logits = layers.Dense(num_classes)(features)\n",
        "    # Create the Keras model.\n",
        "    model = keras.Model(inputs=inputs, outputs=logits)\n",
        "    return model"
      ],
      "metadata": {
        "id": "lOWONTaSg-7h"
      },
      "execution_count": 13,
      "outputs": []
    },
    {
      "cell_type": "markdown",
      "source": [
        "#### Now lets train"
      ],
      "metadata": {
        "id": "rZ6ypic_iALe"
      }
    },
    {
      "cell_type": "code",
      "source": [
        "\n",
        "def run_experiment(model):\n",
        "    optimizer = tfa.optimizers.AdamW(\n",
        "        learning_rate=learning_rate, weight_decay=weight_decay\n",
        "    )\n",
        "\n",
        "    model.compile(\n",
        "        optimizer=optimizer,\n",
        "        loss=keras.losses.SparseCategoricalCrossentropy(from_logits=True),\n",
        "        metrics=[\n",
        "            keras.metrics.SparseCategoricalAccuracy(name=\"accuracy\"),\n",
        "            keras.metrics.SparseTopKCategoricalAccuracy(5, name=\"top-5-accuracy\"),\n",
        "        ],\n",
        "    )\n",
        "\n",
        "    checkpoint_filepath = \"/tmp/checkpoint\"\n",
        "    checkpoint_callback = keras.callbacks.ModelCheckpoint(\n",
        "        checkpoint_filepath,\n",
        "        monitor=\"val_accuracy\",\n",
        "        save_best_only=True,\n",
        "        save_weights_only=True,\n",
        "    )\n",
        "\n",
        "    history = model.fit(\n",
        "        x=x_train,\n",
        "        y=y_train,\n",
        "        batch_size=batch_size,\n",
        "        epochs=num_epochs,\n",
        "        validation_split=0.1,\n",
        "        callbacks=[checkpoint_callback],\n",
        "    )\n",
        "\n",
        "    model.load_weights(checkpoint_filepath)\n",
        "    _, accuracy, top_5_accuracy = model.evaluate(x_test, y_test)\n",
        "    print(f\"Test accuracy: {round(accuracy * 100, 2)}%\")\n",
        "    print(f\"Test top 5 accuracy: {round(top_5_accuracy * 100, 2)}%\")\n",
        "\n",
        "    return history\n",
        "\n",
        "\n",
        "vit_classifier = create_vit_classifier()\n",
        "history = run_experiment(vit_classifier)"
      ],
      "metadata": {
        "colab": {
          "base_uri": "https://localhost:8080/"
        },
        "id": "yibO3qdph9RO",
        "outputId": "a4f3726a-0bff-4782-a007-af0a2e8c345c"
      },
      "execution_count": 14,
      "outputs": [
        {
          "output_type": "stream",
          "name": "stdout",
          "text": [
            "Epoch 1/100\n",
            "176/176 [==============================] - 80s 393ms/step - loss: 4.4773 - accuracy: 0.0459 - top-5-accuracy: 0.1602 - val_loss: 3.9396 - val_accuracy: 0.1124 - val_top-5-accuracy: 0.3158\n",
            "Epoch 2/100\n",
            "176/176 [==============================] - 68s 385ms/step - loss: 3.9677 - accuracy: 0.0916 - top-5-accuracy: 0.2820 - val_loss: 3.6412 - val_accuracy: 0.1436 - val_top-5-accuracy: 0.3918\n",
            "Epoch 3/100\n",
            "176/176 [==============================] - 68s 385ms/step - loss: 3.7322 - accuracy: 0.1255 - top-5-accuracy: 0.3544 - val_loss: 3.3924 - val_accuracy: 0.1916 - val_top-5-accuracy: 0.4538\n",
            "Epoch 4/100\n",
            "176/176 [==============================] - 68s 386ms/step - loss: 3.5436 - accuracy: 0.1541 - top-5-accuracy: 0.4127 - val_loss: 3.2393 - val_accuracy: 0.2108 - val_top-5-accuracy: 0.5056\n",
            "Epoch 5/100\n",
            "176/176 [==============================] - 68s 386ms/step - loss: 3.3959 - accuracy: 0.1809 - top-5-accuracy: 0.4540 - val_loss: 3.0716 - val_accuracy: 0.2508 - val_top-5-accuracy: 0.5462\n",
            "Epoch 6/100\n",
            "176/176 [==============================] - 68s 385ms/step - loss: 3.2778 - accuracy: 0.2052 - top-5-accuracy: 0.4863 - val_loss: 2.9864 - val_accuracy: 0.2618 - val_top-5-accuracy: 0.5514\n",
            "Epoch 7/100\n",
            "176/176 [==============================] - 68s 388ms/step - loss: 3.1674 - accuracy: 0.2221 - top-5-accuracy: 0.5146 - val_loss: 2.8663 - val_accuracy: 0.2812 - val_top-5-accuracy: 0.5898\n",
            "Epoch 8/100\n",
            "176/176 [==============================] - 68s 387ms/step - loss: 3.0663 - accuracy: 0.2437 - top-5-accuracy: 0.5394 - val_loss: 2.7860 - val_accuracy: 0.3034 - val_top-5-accuracy: 0.6100\n",
            "Epoch 9/100\n",
            "176/176 [==============================] - 68s 385ms/step - loss: 2.9602 - accuracy: 0.2664 - top-5-accuracy: 0.5674 - val_loss: 2.7319 - val_accuracy: 0.3190 - val_top-5-accuracy: 0.6266\n",
            "Epoch 10/100\n",
            "176/176 [==============================] - 68s 386ms/step - loss: 2.8661 - accuracy: 0.2831 - top-5-accuracy: 0.5896 - val_loss: 2.5946 - val_accuracy: 0.3430 - val_top-5-accuracy: 0.6532\n",
            "Epoch 11/100\n",
            "176/176 [==============================] - 68s 387ms/step - loss: 2.7648 - accuracy: 0.3027 - top-5-accuracy: 0.6119 - val_loss: 2.5249 - val_accuracy: 0.3512 - val_top-5-accuracy: 0.6692\n",
            "Epoch 12/100\n",
            "176/176 [==============================] - 68s 385ms/step - loss: 2.6778 - accuracy: 0.3206 - top-5-accuracy: 0.6336 - val_loss: 2.4604 - val_accuracy: 0.3690 - val_top-5-accuracy: 0.6788\n",
            "Epoch 13/100\n",
            "176/176 [==============================] - 68s 386ms/step - loss: 2.5904 - accuracy: 0.3387 - top-5-accuracy: 0.6522 - val_loss: 2.4108 - val_accuracy: 0.3818 - val_top-5-accuracy: 0.6884\n",
            "Epoch 14/100\n",
            "176/176 [==============================] - 68s 386ms/step - loss: 2.5229 - accuracy: 0.3516 - top-5-accuracy: 0.6652 - val_loss: 2.3571 - val_accuracy: 0.3960 - val_top-5-accuracy: 0.6974\n",
            "Epoch 15/100\n",
            "176/176 [==============================] - 68s 387ms/step - loss: 2.4548 - accuracy: 0.3662 - top-5-accuracy: 0.6810 - val_loss: 2.3085 - val_accuracy: 0.4058 - val_top-5-accuracy: 0.7074\n",
            "Epoch 16/100\n",
            "176/176 [==============================] - 68s 387ms/step - loss: 2.3896 - accuracy: 0.3788 - top-5-accuracy: 0.6932 - val_loss: 2.2397 - val_accuracy: 0.4152 - val_top-5-accuracy: 0.7182\n",
            "Epoch 17/100\n",
            "176/176 [==============================] - 68s 387ms/step - loss: 2.3307 - accuracy: 0.3917 - top-5-accuracy: 0.7057 - val_loss: 2.2102 - val_accuracy: 0.4232 - val_top-5-accuracy: 0.7306\n",
            "Epoch 18/100\n",
            "176/176 [==============================] - 68s 386ms/step - loss: 2.2634 - accuracy: 0.4032 - top-5-accuracy: 0.7205 - val_loss: 2.1580 - val_accuracy: 0.4316 - val_top-5-accuracy: 0.7418\n",
            "Epoch 19/100\n",
            "176/176 [==============================] - 68s 387ms/step - loss: 2.1933 - accuracy: 0.4204 - top-5-accuracy: 0.7373 - val_loss: 2.1177 - val_accuracy: 0.4458 - val_top-5-accuracy: 0.7496\n",
            "Epoch 20/100\n",
            "176/176 [==============================] - 68s 386ms/step - loss: 2.1404 - accuracy: 0.4309 - top-5-accuracy: 0.7462 - val_loss: 2.1006 - val_accuracy: 0.4512 - val_top-5-accuracy: 0.7408\n",
            "Epoch 21/100\n",
            "176/176 [==============================] - 68s 386ms/step - loss: 2.0817 - accuracy: 0.4467 - top-5-accuracy: 0.7577 - val_loss: 2.0775 - val_accuracy: 0.4576 - val_top-5-accuracy: 0.7504\n",
            "Epoch 22/100\n",
            "176/176 [==============================] - 68s 386ms/step - loss: 2.0377 - accuracy: 0.4564 - top-5-accuracy: 0.7673 - val_loss: 2.0657 - val_accuracy: 0.4626 - val_top-5-accuracy: 0.7520\n",
            "Epoch 23/100\n",
            "176/176 [==============================] - 68s 386ms/step - loss: 1.9886 - accuracy: 0.4643 - top-5-accuracy: 0.7763 - val_loss: 2.0269 - val_accuracy: 0.4664 - val_top-5-accuracy: 0.7658\n",
            "Epoch 24/100\n",
            "176/176 [==============================] - 68s 386ms/step - loss: 1.9392 - accuracy: 0.4768 - top-5-accuracy: 0.7859 - val_loss: 1.9850 - val_accuracy: 0.4746 - val_top-5-accuracy: 0.7670\n",
            "Epoch 25/100\n",
            "176/176 [==============================] - 68s 386ms/step - loss: 1.8871 - accuracy: 0.4893 - top-5-accuracy: 0.7943 - val_loss: 1.9798 - val_accuracy: 0.4866 - val_top-5-accuracy: 0.7730\n",
            "Epoch 26/100\n",
            "176/176 [==============================] - 68s 387ms/step - loss: 1.8540 - accuracy: 0.4968 - top-5-accuracy: 0.8018 - val_loss: 1.9666 - val_accuracy: 0.4878 - val_top-5-accuracy: 0.7704\n",
            "Epoch 27/100\n",
            "176/176 [==============================] - 67s 383ms/step - loss: 1.8187 - accuracy: 0.5032 - top-5-accuracy: 0.8082 - val_loss: 1.9359 - val_accuracy: 0.4870 - val_top-5-accuracy: 0.7772\n",
            "Epoch 28/100\n",
            "176/176 [==============================] - 68s 387ms/step - loss: 1.7575 - accuracy: 0.5169 - top-5-accuracy: 0.8188 - val_loss: 1.9404 - val_accuracy: 0.4914 - val_top-5-accuracy: 0.7782\n",
            "Epoch 29/100\n",
            "176/176 [==============================] - 67s 383ms/step - loss: 1.7271 - accuracy: 0.5221 - top-5-accuracy: 0.8238 - val_loss: 1.9444 - val_accuracy: 0.4892 - val_top-5-accuracy: 0.7828\n",
            "Epoch 30/100\n",
            "176/176 [==============================] - 68s 386ms/step - loss: 1.6942 - accuracy: 0.5326 - top-5-accuracy: 0.8294 - val_loss: 1.9195 - val_accuracy: 0.4974 - val_top-5-accuracy: 0.7834\n",
            "Epoch 31/100\n",
            "176/176 [==============================] - 68s 387ms/step - loss: 1.6591 - accuracy: 0.5405 - top-5-accuracy: 0.8360 - val_loss: 1.8956 - val_accuracy: 0.5048 - val_top-5-accuracy: 0.7892\n",
            "Epoch 32/100\n",
            "176/176 [==============================] - 68s 386ms/step - loss: 1.6134 - accuracy: 0.5514 - top-5-accuracy: 0.8445 - val_loss: 1.8897 - val_accuracy: 0.5080 - val_top-5-accuracy: 0.7900\n",
            "Epoch 33/100\n",
            "176/176 [==============================] - 67s 382ms/step - loss: 1.5904 - accuracy: 0.5564 - top-5-accuracy: 0.8477 - val_loss: 1.8965 - val_accuracy: 0.5014 - val_top-5-accuracy: 0.7912\n",
            "Epoch 34/100\n",
            "176/176 [==============================] - 67s 383ms/step - loss: 1.5515 - accuracy: 0.5682 - top-5-accuracy: 0.8544 - val_loss: 1.8724 - val_accuracy: 0.5048 - val_top-5-accuracy: 0.7946\n",
            "Epoch 35/100\n",
            "176/176 [==============================] - 68s 387ms/step - loss: 1.5265 - accuracy: 0.5731 - top-5-accuracy: 0.8586 - val_loss: 1.8595 - val_accuracy: 0.5150 - val_top-5-accuracy: 0.7976\n",
            "Epoch 36/100\n",
            "176/176 [==============================] - 67s 382ms/step - loss: 1.5045 - accuracy: 0.5788 - top-5-accuracy: 0.8607 - val_loss: 1.8860 - val_accuracy: 0.5088 - val_top-5-accuracy: 0.7908\n",
            "Epoch 37/100\n",
            "176/176 [==============================] - 67s 383ms/step - loss: 1.4699 - accuracy: 0.5871 - top-5-accuracy: 0.8676 - val_loss: 1.8612 - val_accuracy: 0.5146 - val_top-5-accuracy: 0.7954\n",
            "Epoch 38/100\n",
            "176/176 [==============================] - 67s 383ms/step - loss: 1.4349 - accuracy: 0.5918 - top-5-accuracy: 0.8745 - val_loss: 1.8804 - val_accuracy: 0.5140 - val_top-5-accuracy: 0.7906\n",
            "Epoch 39/100\n",
            "176/176 [==============================] - 68s 387ms/step - loss: 1.4166 - accuracy: 0.5962 - top-5-accuracy: 0.8762 - val_loss: 1.8638 - val_accuracy: 0.5168 - val_top-5-accuracy: 0.7988\n",
            "Epoch 40/100\n",
            "176/176 [==============================] - 68s 386ms/step - loss: 1.3994 - accuracy: 0.6011 - top-5-accuracy: 0.8795 - val_loss: 1.8630 - val_accuracy: 0.5182 - val_top-5-accuracy: 0.8010\n",
            "Epoch 41/100\n",
            "176/176 [==============================] - 68s 387ms/step - loss: 1.3683 - accuracy: 0.6096 - top-5-accuracy: 0.8838 - val_loss: 1.8627 - val_accuracy: 0.5186 - val_top-5-accuracy: 0.8034\n",
            "Epoch 42/100\n",
            "176/176 [==============================] - 67s 383ms/step - loss: 1.3538 - accuracy: 0.6115 - top-5-accuracy: 0.8872 - val_loss: 1.8593 - val_accuracy: 0.5162 - val_top-5-accuracy: 0.7970\n",
            "Epoch 43/100\n",
            "176/176 [==============================] - 68s 387ms/step - loss: 1.3194 - accuracy: 0.6201 - top-5-accuracy: 0.8922 - val_loss: 1.8761 - val_accuracy: 0.5192 - val_top-5-accuracy: 0.7950\n",
            "Epoch 44/100\n",
            "176/176 [==============================] - 68s 387ms/step - loss: 1.3144 - accuracy: 0.6197 - top-5-accuracy: 0.8938 - val_loss: 1.8855 - val_accuracy: 0.5212 - val_top-5-accuracy: 0.7952\n",
            "Epoch 45/100\n",
            "176/176 [==============================] - 68s 387ms/step - loss: 1.2892 - accuracy: 0.6299 - top-5-accuracy: 0.8961 - val_loss: 1.8487 - val_accuracy: 0.5298 - val_top-5-accuracy: 0.7994\n",
            "Epoch 46/100\n",
            "176/176 [==============================] - 67s 383ms/step - loss: 1.2797 - accuracy: 0.6327 - top-5-accuracy: 0.8985 - val_loss: 1.8489 - val_accuracy: 0.5262 - val_top-5-accuracy: 0.7974\n",
            "Epoch 47/100\n",
            "176/176 [==============================] - 68s 386ms/step - loss: 1.2424 - accuracy: 0.6419 - top-5-accuracy: 0.9040 - val_loss: 1.8236 - val_accuracy: 0.5320 - val_top-5-accuracy: 0.8076\n",
            "Epoch 48/100\n",
            "176/176 [==============================] - 67s 382ms/step - loss: 1.2239 - accuracy: 0.6460 - top-5-accuracy: 0.9076 - val_loss: 1.8615 - val_accuracy: 0.5270 - val_top-5-accuracy: 0.8048\n",
            "Epoch 49/100\n",
            "176/176 [==============================] - 68s 387ms/step - loss: 1.2064 - accuracy: 0.6516 - top-5-accuracy: 0.9093 - val_loss: 1.8463 - val_accuracy: 0.5324 - val_top-5-accuracy: 0.7998\n",
            "Epoch 50/100\n",
            "176/176 [==============================] - 67s 383ms/step - loss: 1.1903 - accuracy: 0.6555 - top-5-accuracy: 0.9101 - val_loss: 1.8588 - val_accuracy: 0.5218 - val_top-5-accuracy: 0.8032\n",
            "Epoch 51/100\n",
            "176/176 [==============================] - 67s 383ms/step - loss: 1.1735 - accuracy: 0.6583 - top-5-accuracy: 0.9139 - val_loss: 1.8318 - val_accuracy: 0.5320 - val_top-5-accuracy: 0.8112\n",
            "Epoch 52/100\n",
            "176/176 [==============================] - 67s 383ms/step - loss: 1.1613 - accuracy: 0.6616 - top-5-accuracy: 0.9156 - val_loss: 1.8452 - val_accuracy: 0.5240 - val_top-5-accuracy: 0.8116\n",
            "Epoch 53/100\n",
            "176/176 [==============================] - 67s 383ms/step - loss: 1.1517 - accuracy: 0.6633 - top-5-accuracy: 0.9167 - val_loss: 1.8445 - val_accuracy: 0.5302 - val_top-5-accuracy: 0.8060\n",
            "Epoch 54/100\n",
            "176/176 [==============================] - 67s 383ms/step - loss: 1.1275 - accuracy: 0.6712 - top-5-accuracy: 0.9199 - val_loss: 1.8301 - val_accuracy: 0.5322 - val_top-5-accuracy: 0.8140\n",
            "Epoch 55/100\n",
            "176/176 [==============================] - 68s 387ms/step - loss: 1.1237 - accuracy: 0.6690 - top-5-accuracy: 0.9210 - val_loss: 1.8260 - val_accuracy: 0.5384 - val_top-5-accuracy: 0.8108\n",
            "Epoch 56/100\n",
            "176/176 [==============================] - 68s 387ms/step - loss: 1.0990 - accuracy: 0.6784 - top-5-accuracy: 0.9231 - val_loss: 1.8389 - val_accuracy: 0.5414 - val_top-5-accuracy: 0.8116\n",
            "Epoch 57/100\n",
            "176/176 [==============================] - 67s 383ms/step - loss: 1.0834 - accuracy: 0.6837 - top-5-accuracy: 0.9253 - val_loss: 1.8536 - val_accuracy: 0.5368 - val_top-5-accuracy: 0.8122\n",
            "Epoch 58/100\n",
            "176/176 [==============================] - 67s 383ms/step - loss: 1.0745 - accuracy: 0.6842 - top-5-accuracy: 0.9266 - val_loss: 1.8434 - val_accuracy: 0.5410 - val_top-5-accuracy: 0.8062\n",
            "Epoch 59/100\n",
            "176/176 [==============================] - 67s 383ms/step - loss: 1.0615 - accuracy: 0.6897 - top-5-accuracy: 0.9297 - val_loss: 1.8720 - val_accuracy: 0.5372 - val_top-5-accuracy: 0.8100\n",
            "Epoch 60/100\n",
            "176/176 [==============================] - 67s 383ms/step - loss: 1.0534 - accuracy: 0.6895 - top-5-accuracy: 0.9302 - val_loss: 1.9206 - val_accuracy: 0.5346 - val_top-5-accuracy: 0.8090\n",
            "Epoch 61/100\n",
            "176/176 [==============================] - 68s 387ms/step - loss: 1.0368 - accuracy: 0.6956 - top-5-accuracy: 0.9320 - val_loss: 1.8295 - val_accuracy: 0.5498 - val_top-5-accuracy: 0.8130\n",
            "Epoch 62/100\n",
            "176/176 [==============================] - 67s 383ms/step - loss: 1.0277 - accuracy: 0.6973 - top-5-accuracy: 0.9335 - val_loss: 1.8599 - val_accuracy: 0.5394 - val_top-5-accuracy: 0.8134\n",
            "Epoch 63/100\n",
            "176/176 [==============================] - 67s 383ms/step - loss: 1.0074 - accuracy: 0.7018 - top-5-accuracy: 0.9349 - val_loss: 1.8712 - val_accuracy: 0.5378 - val_top-5-accuracy: 0.8086\n",
            "Epoch 64/100\n",
            "176/176 [==============================] - 67s 383ms/step - loss: 0.9983 - accuracy: 0.7059 - top-5-accuracy: 0.9365 - val_loss: 1.8607 - val_accuracy: 0.5402 - val_top-5-accuracy: 0.8126\n",
            "Epoch 65/100\n",
            "176/176 [==============================] - 67s 383ms/step - loss: 0.9848 - accuracy: 0.7086 - top-5-accuracy: 0.9386 - val_loss: 1.8798 - val_accuracy: 0.5376 - val_top-5-accuracy: 0.8068\n",
            "Epoch 66/100\n",
            "176/176 [==============================] - 67s 383ms/step - loss: 0.9952 - accuracy: 0.7076 - top-5-accuracy: 0.9363 - val_loss: 1.8550 - val_accuracy: 0.5402 - val_top-5-accuracy: 0.8142\n",
            "Epoch 67/100\n",
            "176/176 [==============================] - 67s 383ms/step - loss: 0.9769 - accuracy: 0.7098 - top-5-accuracy: 0.9407 - val_loss: 1.8558 - val_accuracy: 0.5394 - val_top-5-accuracy: 0.8092\n",
            "Epoch 68/100\n",
            "176/176 [==============================] - 67s 383ms/step - loss: 0.9704 - accuracy: 0.7132 - top-5-accuracy: 0.9404 - val_loss: 1.8467 - val_accuracy: 0.5464 - val_top-5-accuracy: 0.8132\n",
            "Epoch 69/100\n",
            "176/176 [==============================] - 67s 383ms/step - loss: 0.9613 - accuracy: 0.7138 - top-5-accuracy: 0.9419 - val_loss: 1.8692 - val_accuracy: 0.5378 - val_top-5-accuracy: 0.8150\n",
            "Epoch 70/100\n",
            "176/176 [==============================] - 67s 383ms/step - loss: 0.9419 - accuracy: 0.7217 - top-5-accuracy: 0.9430 - val_loss: 1.8843 - val_accuracy: 0.5272 - val_top-5-accuracy: 0.8030\n",
            "Epoch 71/100\n",
            "176/176 [==============================] - 67s 383ms/step - loss: 0.9385 - accuracy: 0.7206 - top-5-accuracy: 0.9446 - val_loss: 1.8670 - val_accuracy: 0.5452 - val_top-5-accuracy: 0.8186\n",
            "Epoch 72/100\n",
            "176/176 [==============================] - 67s 383ms/step - loss: 0.9269 - accuracy: 0.7255 - top-5-accuracy: 0.9444 - val_loss: 1.9006 - val_accuracy: 0.5426 - val_top-5-accuracy: 0.8088\n",
            "Epoch 73/100\n",
            "176/176 [==============================] - 67s 383ms/step - loss: 0.9280 - accuracy: 0.7246 - top-5-accuracy: 0.9448 - val_loss: 1.8687 - val_accuracy: 0.5470 - val_top-5-accuracy: 0.8138\n",
            "Epoch 74/100\n",
            "176/176 [==============================] - 67s 383ms/step - loss: 0.9228 - accuracy: 0.7248 - top-5-accuracy: 0.9453 - val_loss: 1.8728 - val_accuracy: 0.5438 - val_top-5-accuracy: 0.8158\n",
            "Epoch 75/100\n",
            "176/176 [==============================] - 67s 383ms/step - loss: 0.9110 - accuracy: 0.7272 - top-5-accuracy: 0.9467 - val_loss: 1.8735 - val_accuracy: 0.5440 - val_top-5-accuracy: 0.8130\n",
            "Epoch 76/100\n",
            "176/176 [==============================] - 67s 383ms/step - loss: 0.8973 - accuracy: 0.7329 - top-5-accuracy: 0.9477 - val_loss: 1.8693 - val_accuracy: 0.5466 - val_top-5-accuracy: 0.8132\n",
            "Epoch 77/100\n",
            "176/176 [==============================] - 67s 383ms/step - loss: 0.8811 - accuracy: 0.7359 - top-5-accuracy: 0.9495 - val_loss: 1.9011 - val_accuracy: 0.5486 - val_top-5-accuracy: 0.8052\n",
            "Epoch 78/100\n",
            "176/176 [==============================] - 67s 383ms/step - loss: 0.8797 - accuracy: 0.7388 - top-5-accuracy: 0.9499 - val_loss: 1.8687 - val_accuracy: 0.5440 - val_top-5-accuracy: 0.8094\n",
            "Epoch 79/100\n",
            "176/176 [==============================] - 67s 383ms/step - loss: 0.8745 - accuracy: 0.7399 - top-5-accuracy: 0.9503 - val_loss: 1.9037 - val_accuracy: 0.5478 - val_top-5-accuracy: 0.8106\n",
            "Epoch 80/100\n",
            "176/176 [==============================] - 67s 383ms/step - loss: 0.8803 - accuracy: 0.7386 - top-5-accuracy: 0.9511 - val_loss: 1.8886 - val_accuracy: 0.5466 - val_top-5-accuracy: 0.8104\n",
            "Epoch 81/100\n",
            "176/176 [==============================] - 68s 387ms/step - loss: 0.8807 - accuracy: 0.7376 - top-5-accuracy: 0.9497 - val_loss: 1.8757 - val_accuracy: 0.5548 - val_top-5-accuracy: 0.8130\n",
            "Epoch 82/100\n",
            "176/176 [==============================] - 67s 383ms/step - loss: 0.8654 - accuracy: 0.7405 - top-5-accuracy: 0.9511 - val_loss: 1.8637 - val_accuracy: 0.5464 - val_top-5-accuracy: 0.8160\n",
            "Epoch 83/100\n",
            "176/176 [==============================] - 67s 383ms/step - loss: 0.8525 - accuracy: 0.7460 - top-5-accuracy: 0.9538 - val_loss: 1.8932 - val_accuracy: 0.5424 - val_top-5-accuracy: 0.8122\n",
            "Epoch 84/100\n",
            "176/176 [==============================] - 67s 383ms/step - loss: 0.8437 - accuracy: 0.7471 - top-5-accuracy: 0.9540 - val_loss: 1.9100 - val_accuracy: 0.5426 - val_top-5-accuracy: 0.8160\n",
            "Epoch 85/100\n",
            "176/176 [==============================] - 67s 382ms/step - loss: 0.8470 - accuracy: 0.7449 - top-5-accuracy: 0.9539 - val_loss: 1.8877 - val_accuracy: 0.5454 - val_top-5-accuracy: 0.8114\n",
            "Epoch 86/100\n",
            "176/176 [==============================] - 67s 382ms/step - loss: 0.8368 - accuracy: 0.7479 - top-5-accuracy: 0.9557 - val_loss: 1.9068 - val_accuracy: 0.5416 - val_top-5-accuracy: 0.8126\n",
            "Epoch 87/100\n",
            "176/176 [==============================] - 67s 383ms/step - loss: 0.8435 - accuracy: 0.7490 - top-5-accuracy: 0.9533 - val_loss: 1.9007 - val_accuracy: 0.5524 - val_top-5-accuracy: 0.8176\n",
            "Epoch 88/100\n",
            "176/176 [==============================] - 67s 383ms/step - loss: 0.8296 - accuracy: 0.7521 - top-5-accuracy: 0.9550 - val_loss: 1.9268 - val_accuracy: 0.5448 - val_top-5-accuracy: 0.8098\n",
            "Epoch 89/100\n",
            "176/176 [==============================] - 67s 382ms/step - loss: 0.8231 - accuracy: 0.7552 - top-5-accuracy: 0.9562 - val_loss: 1.9298 - val_accuracy: 0.5392 - val_top-5-accuracy: 0.8028\n",
            "Epoch 90/100\n",
            "176/176 [==============================] - 67s 382ms/step - loss: 0.8113 - accuracy: 0.7588 - top-5-accuracy: 0.9563 - val_loss: 1.9272 - val_accuracy: 0.5500 - val_top-5-accuracy: 0.8126\n",
            "Epoch 91/100\n",
            "176/176 [==============================] - 67s 382ms/step - loss: 0.8179 - accuracy: 0.7530 - top-5-accuracy: 0.9565 - val_loss: 1.8769 - val_accuracy: 0.5478 - val_top-5-accuracy: 0.8164\n",
            "Epoch 92/100\n",
            "176/176 [==============================] - 67s 383ms/step - loss: 0.8007 - accuracy: 0.7593 - top-5-accuracy: 0.9582 - val_loss: 1.9031 - val_accuracy: 0.5494 - val_top-5-accuracy: 0.8136\n",
            "Epoch 93/100\n",
            "176/176 [==============================] - 67s 383ms/step - loss: 0.8050 - accuracy: 0.7598 - top-5-accuracy: 0.9580 - val_loss: 1.9096 - val_accuracy: 0.5408 - val_top-5-accuracy: 0.8106\n",
            "Epoch 94/100\n",
            "176/176 [==============================] - 68s 384ms/step - loss: 0.8076 - accuracy: 0.7585 - top-5-accuracy: 0.9572 - val_loss: 1.9338 - val_accuracy: 0.5412 - val_top-5-accuracy: 0.8124\n",
            "Epoch 95/100\n",
            "176/176 [==============================] - 67s 383ms/step - loss: 0.8039 - accuracy: 0.7598 - top-5-accuracy: 0.9586 - val_loss: 1.9405 - val_accuracy: 0.5488 - val_top-5-accuracy: 0.8190\n",
            "Epoch 96/100\n",
            "176/176 [==============================] - 67s 384ms/step - loss: 0.7916 - accuracy: 0.7632 - top-5-accuracy: 0.9593 - val_loss: 1.9053 - val_accuracy: 0.5470 - val_top-5-accuracy: 0.8152\n",
            "Epoch 97/100\n",
            "176/176 [==============================] - 67s 383ms/step - loss: 0.7827 - accuracy: 0.7659 - top-5-accuracy: 0.9590 - val_loss: 1.9590 - val_accuracy: 0.5452 - val_top-5-accuracy: 0.8066\n",
            "Epoch 98/100\n",
            "176/176 [==============================] - 67s 383ms/step - loss: 0.7847 - accuracy: 0.7640 - top-5-accuracy: 0.9596 - val_loss: 1.9031 - val_accuracy: 0.5502 - val_top-5-accuracy: 0.8194\n",
            "Epoch 99/100\n",
            "176/176 [==============================] - 67s 382ms/step - loss: 0.7822 - accuracy: 0.7660 - top-5-accuracy: 0.9608 - val_loss: 1.9067 - val_accuracy: 0.5454 - val_top-5-accuracy: 0.8094\n",
            "Epoch 100/100\n",
            "176/176 [==============================] - 67s 384ms/step - loss: 0.7682 - accuracy: 0.7695 - top-5-accuracy: 0.9609 - val_loss: 1.8791 - val_accuracy: 0.5490 - val_top-5-accuracy: 0.8204\n",
            "313/313 [==============================] - 7s 22ms/step - loss: 1.8376 - accuracy: 0.5473 - top-5-accuracy: 0.8159\n",
            "Test accuracy: 54.73%\n",
            "Test top 5 accuracy: 81.59%\n"
          ]
        }
      ]
    },
    {
      "cell_type": "code",
      "source": [
        ""
      ],
      "metadata": {
        "id": "E6iBm837iGh4"
      },
      "execution_count": null,
      "outputs": []
    }
  ]
}